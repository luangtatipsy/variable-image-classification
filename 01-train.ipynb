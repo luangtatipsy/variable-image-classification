{
 "cells": [
  {
   "cell_type": "code",
   "execution_count": null,
   "source": [
    "import warnings\n",
    "warnings.filterwarnings('ignore')\n",
    "\n",
    "from tensorflow.keras.applications.xception import preprocess_input\n",
    "from tensorflow.keras.preprocessing.image import ImageDataGenerator\n",
    "\n",
    "from models import create_fixed_input_shape_model, create_variable_input_shape_model "
   ],
   "outputs": [],
   "metadata": {}
  },
  {
   "cell_type": "code",
   "execution_count": null,
   "source": [
    "IMAGE_SIZE = (160, 160)\n",
    "NUM_CLASSES = 10\n",
    "train_dir = \"datasets/imagenette2/train\"\n",
    "test_dir = \"datasets/imagenette2/val\""
   ],
   "outputs": [],
   "metadata": {}
  },
  {
   "cell_type": "markdown",
   "source": [
    "# __Training a Fixed Input Shape Model__"
   ],
   "metadata": {}
  },
  {
   "cell_type": "code",
   "execution_count": null,
   "source": [
    "data_augment_generator = ImageDataGenerator(\n",
    "    rotation_range=20,\n",
    "    width_shift_range=0.2,\n",
    "    height_shift_range=0.2,\n",
    "    zoom_range=0.2,\n",
    "    brightness_range=[0.2,1.0],\n",
    "    horizontal_flip=True,\n",
    "    preprocessing_function=preprocess_input,\n",
    "    fill_mode=\"nearest\",\n",
    ")\n",
    "\n",
    "train_data_generator = data_augment_generator.flow_from_directory(\n",
    "    train_dir, batch_size=32, class_mode=\"categorical\", target_size=IMAGE_SIZE\n",
    ")\n",
    "\n",
    "data_generator = ImageDataGenerator(preprocessing_function=preprocess_input)\n",
    "\n",
    "test_data_generator = data_generator.flow_from_directory(\n",
    "    test_dir, batch_size=64, class_mode=\"categorical\", target_size=IMAGE_SIZE\n",
    ")"
   ],
   "outputs": [],
   "metadata": {}
  },
  {
   "cell_type": "code",
   "execution_count": null,
   "source": [
    "model = create_fixed_input_shape_model(IMAGE_SIZE, NUM_CLASSES)\n",
    "model.compile(\n",
    "    optimizer=\"RMSProp\",\n",
    "    loss=\"categorical_crossentropy\",\n",
    "    metrics=[\"accuracy\"],\n",
    ")"
   ],
   "outputs": [],
   "metadata": {}
  },
  {
   "cell_type": "code",
   "execution_count": null,
   "source": [
    "history = model.fit(\n",
    "    train_data_generator,\n",
    "    validation_data=test_data_generator,\n",
    "    epochs=20,\n",
    "    verbose=1,\n",
    ")"
   ],
   "outputs": [],
   "metadata": {}
  },
  {
   "cell_type": "code",
   "execution_count": null,
   "source": [
    "model.save_weights(\"fixed-imagenette2.h5\")"
   ],
   "outputs": [],
   "metadata": {}
  },
  {
   "cell_type": "markdown",
   "source": [
    "# __Training a Variable Input Shape Model__"
   ],
   "metadata": {}
  },
  {
   "cell_type": "code",
   "execution_count": null,
   "source": [
    "model = create_variable_input_shape_model(NUM_CLASSES)\n",
    "model.compile(\n",
    "    optimizer=\"RMSProp\",\n",
    "    loss=\"categorical_crossentropy\",\n",
    "    metrics=[\"accuracy\"],\n",
    ")"
   ],
   "outputs": [],
   "metadata": {}
  },
  {
   "cell_type": "code",
   "execution_count": null,
   "source": [
    "history = model.fit(\n",
    "    train_data_generator,\n",
    "    validation_data=test_data_generator,\n",
    "    epochs=20,\n",
    "    verbose=1,\n",
    ")"
   ],
   "outputs": [],
   "metadata": {}
  },
  {
   "cell_type": "code",
   "execution_count": null,
   "source": [
    "model.save_weights(\"variable-imagenette2.h5\")"
   ],
   "outputs": [],
   "metadata": {}
  }
 ],
 "metadata": {
  "orig_nbformat": 4,
  "language_info": {
   "name": "python",
   "version": "3.8.7",
   "mimetype": "text/x-python",
   "codemirror_mode": {
    "name": "ipython",
    "version": 3
   },
   "pygments_lexer": "ipython3",
   "nbconvert_exporter": "python",
   "file_extension": ".py"
  },
  "kernelspec": {
   "name": "python3",
   "display_name": "Python 3.8.7 64-bit ('env': venv)"
  },
  "interpreter": {
   "hash": "207e91aecdeaada7ea47249dd859ab0c248786fcd99e72d4dbb78268b86a352a"
  }
 },
 "nbformat": 4,
 "nbformat_minor": 2
}