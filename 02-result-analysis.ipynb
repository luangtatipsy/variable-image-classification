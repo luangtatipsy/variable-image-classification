{
 "cells": [
  {
   "cell_type": "code",
   "execution_count": null,
   "source": [
    "import os\n",
    "import warnings\n",
    "warnings.filterwarnings('ignore')\n",
    "\n",
    "import numpy as np\n",
    "import pandas as pd\n",
    "pd.set_option('display.max_colwidth', None)\n",
    "\n",
    "from tensorflow.keras.applications.xception import preprocess_input\n",
    "from tensorflow.keras.preprocessing.image import img_to_array, load_img\n",
    "from sklearn.metrics import classification_report\n",
    "from models import create_fixed_input_shape_model, create_variable_input_shape_model"
   ],
   "outputs": [],
   "metadata": {}
  },
  {
   "cell_type": "code",
   "execution_count": null,
   "source": [
    "IMAGE_SIZE = (160, 160)\n",
    "NUM_CLASSES = 10\n",
    "\n",
    "test_dir = \"datasets/imagenette2/val\"\n",
    "model_dir = \"models\""
   ],
   "outputs": [],
   "metadata": {}
  },
  {
   "cell_type": "code",
   "execution_count": null,
   "source": [
    "fixed_model = create_fixed_input_shape_model(IMAGE_SIZE, NUM_CLASSES)\n",
    "fixed_model.load_weights(os.path.join(model_dir, \"fixed-imagenette2.h5\"))"
   ],
   "outputs": [],
   "metadata": {}
  },
  {
   "cell_type": "code",
   "execution_count": null,
   "source": [
    "variable_model = create_variable_input_shape_model(NUM_CLASSES)\n",
    "variable_model.load_weights(os.path.join(model_dir, \"variable-imagenette2.h5\"))"
   ],
   "outputs": [],
   "metadata": {}
  },
  {
   "cell_type": "code",
   "execution_count": null,
   "source": [
    "CLASSES = {\n",
    "    0: 'n01440764',\n",
    "    1: 'n02102040',\n",
    "    2: 'n02979186',\n",
    "    3: 'n03000684',\n",
    "    4: 'n03028079',\n",
    "    5: 'n03394916',\n",
    "    6: 'n03417042',\n",
    "    7: 'n03425413',\n",
    "    8: 'n03445777',\n",
    "    9: 'n03888257'\n",
    "}"
   ],
   "outputs": [],
   "metadata": {}
  },
  {
   "cell_type": "code",
   "execution_count": null,
   "source": [
    "def predict(path, model, image_size=None, classes=CLASSES):\n",
    "    image = load_img(path, color_mode=\"rgb\", target_size=image_size)\n",
    "    image = img_to_array(image)\n",
    "    image = preprocess_input(image)\n",
    "    image = np.expand_dims(image, axis=0)\n",
    "\n",
    "    y_pred = model.predict(image)\n",
    "    predicted = classes.get(y_pred.argmax())\n",
    "\n",
    "    return predicted, y_pred.max()"
   ],
   "outputs": [],
   "metadata": {}
  },
  {
   "cell_type": "code",
   "execution_count": null,
   "source": [
    "test_df = pd.DataFrame(columns=[\"image\", \"class\"])\n",
    "for class_ in CLASSES.values():\n",
    "    images = [os.path.join(test_dir, class_, image) for image in os.listdir(os.path.join(test_dir, class_))]\n",
    "    class_df = pd.DataFrame(data={\"image\": images, \"class\": class_})\n",
    "    test_df = test_df.append(class_df, ignore_index=True)"
   ],
   "outputs": [],
   "metadata": {}
  },
  {
   "cell_type": "code",
   "execution_count": null,
   "source": [
    "test_df['fixed_pred'] = np.nan\n",
    "test_df['fixed_conf'] = np.nan\n",
    "test_df['variable_pred'] = np.nan\n",
    "test_df['variable_conf'] = np.nan\n",
    "\n",
    "for idx in test_df.index:\n",
    "    row = test_df.loc[idx]\n",
    "    fixed_pred, fixed_conf = predict(row['image'], model=fixed_model, image_size=IMAGE_SIZE)\n",
    "    variable_pred, variable_conf = predict(row['image'], model=variable_model, image_size=None)\n",
    "    \n",
    "    row['fixed_pred'] = fixed_pred\n",
    "    row['fixed_conf'] = fixed_conf\n",
    "    row['variable_pred'] = variable_pred\n",
    "    row['variable_conf'] = variable_conf\n",
    "\n",
    "    test_df.loc[idx] = row"
   ],
   "outputs": [],
   "metadata": {}
  },
  {
   "cell_type": "code",
   "execution_count": null,
   "source": [
    "print(classification_report(test_df['class'], test_df['fixed_pred'], digits=4))"
   ],
   "outputs": [],
   "metadata": {}
  },
  {
   "cell_type": "code",
   "execution_count": null,
   "source": [
    "print(classification_report(test_df['class'], test_df['variable_pred'], digits=4))"
   ],
   "outputs": [],
   "metadata": {}
  }
 ],
 "metadata": {
  "orig_nbformat": 4,
  "language_info": {
   "name": "python",
   "version": "3.8.7",
   "mimetype": "text/x-python",
   "codemirror_mode": {
    "name": "ipython",
    "version": 3
   },
   "pygments_lexer": "ipython3",
   "nbconvert_exporter": "python",
   "file_extension": ".py"
  },
  "kernelspec": {
   "name": "python3",
   "display_name": "Python 3.8.7 64-bit ('env': venv)"
  },
  "interpreter": {
   "hash": "207e91aecdeaada7ea47249dd859ab0c248786fcd99e72d4dbb78268b86a352a"
  }
 },
 "nbformat": 4,
 "nbformat_minor": 2
}