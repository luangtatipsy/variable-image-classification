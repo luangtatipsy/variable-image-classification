{
 "cells": [
  {
   "cell_type": "code",
   "execution_count": 40,
   "metadata": {},
   "outputs": [],
   "source": [
    "import os\n",
    "import warnings\n",
    "warnings.filterwarnings('ignore')\n",
    "\n",
    "import numpy as np\n",
    "import pandas as pd\n",
    "pd.set_option('display.max_colwidth', None)\n",
    "\n",
    "from tensorflow.keras.applications.xception import preprocess_input\n",
    "from tensorflow.keras.preprocessing.image import img_to_array, load_img\n",
    "from sklearn.metrics import classification_report\n",
    "from models import create_fixed_input_shape_model, create_variable_input_shape_model\n",
    "from PIL import Image"
   ]
  },
  {
   "cell_type": "code",
   "execution_count": 41,
   "metadata": {},
   "outputs": [],
   "source": [
    "IMAGE_SIZE = (160, 160)\n",
    "NUM_CLASSES = 10\n",
    "\n",
    "test_dir = \"datasets/imagenette2/val\"\n",
    "model_dir = \"models\""
   ]
  },
  {
   "cell_type": "code",
   "execution_count": 42,
   "metadata": {},
   "outputs": [],
   "source": [
    "fixed_model = create_fixed_input_shape_model(IMAGE_SIZE, NUM_CLASSES)\n",
    "fixed_model.load_weights(os.path.join(model_dir, \"fixed-imagenette2.h5\"))"
   ]
  },
  {
   "cell_type": "code",
   "execution_count": 43,
   "metadata": {},
   "outputs": [],
   "source": [
    "variable_model = create_variable_input_shape_model(NUM_CLASSES)\n",
    "variable_model.load_weights(os.path.join(model_dir, \"variable-imagenette2.h5\"))"
   ]
  },
  {
   "cell_type": "code",
   "execution_count": 44,
   "metadata": {},
   "outputs": [],
   "source": [
    "CLASSES = {\n",
    "    0: 'n01440764',\n",
    "    1: 'n02102040',\n",
    "    2: 'n02979186',\n",
    "    3: 'n03000684',\n",
    "    4: 'n03028079',\n",
    "    5: 'n03394916',\n",
    "    6: 'n03417042',\n",
    "    7: 'n03425413',\n",
    "    8: 'n03445777',\n",
    "    9: 'n03888257'\n",
    "}"
   ]
  },
  {
   "cell_type": "code",
   "execution_count": 45,
   "metadata": {},
   "outputs": [],
   "source": [
    "def _load_img(img_path, max_dimension=IMAGE_SIZE[0]):\n",
    "    #load image from path and convert to array\n",
    "    img = load_img(img_path, color_mode='rgb', interpolation='nearest', target_size=None)\n",
    "    \n",
    "    #downsample image if above allowed size if specified\n",
    "    img_max_dimension = max(img.size) \n",
    "    if img_max_dimension > max_dimension:\n",
    "        new_dimension = tuple(dim * max_dimension // img_max_dimension for dim in img.size)\n",
    "        img = img.resize(size=new_dimension, resample=Image.BILINEAR)\n",
    "        \n",
    "    return img_to_array(img) # convert PIL image to numpy array\n",
    "\n",
    "def _pad_img(img, shape):\n",
    "    #pad images to match largest image in batch\n",
    "    width, height = shape\n",
    "    img_width, img_height, _ = img.shape\n",
    "\n",
    "    diff_w = ((width - img_width) // 2, ((width - img_width) // 2) + ((width - img_width) % 2))\n",
    "    diff_h = ((height - img_height) // 2, ((height - img_height) // 2) + ((height - img_height) % 2))\n",
    "\n",
    "    return np.pad(img, (diff_w, diff_h, (0, 0)), mode='constant', constant_values=0.)\n",
    "\n",
    "def predict(path, model, how, image_size=None, classes=CLASSES):\n",
    "    if how == \"fixed\":\n",
    "        image = load_img(path, color_mode=\"rgb\", target_size=image_size)\n",
    "        image = img_to_array(image)\n",
    "    elif how == \"variable\":\n",
    "        image = _load_img(path)\n",
    "        image = _pad_img(image, IMAGE_SIZE)\n",
    "\n",
    "    image = preprocess_input(image)\n",
    "    image = np.expand_dims(image, axis=0)\n",
    "\n",
    "    y_pred = model.predict(image)\n",
    "    predicted = classes.get(y_pred.argmax())\n",
    "\n",
    "    return predicted, y_pred.max()"
   ]
  },
  {
   "cell_type": "code",
   "execution_count": 46,
   "metadata": {},
   "outputs": [],
   "source": [
    "test_df = pd.DataFrame(columns=[\"image\", \"class\"])\n",
    "for class_ in CLASSES.values():\n",
    "    images = [os.path.join(test_dir, class_, image) for image in os.listdir(os.path.join(test_dir, class_))]\n",
    "    class_df = pd.DataFrame(data={\"image\": images, \"class\": class_})\n",
    "    test_df = test_df.append(class_df, ignore_index=True)"
   ]
  },
  {
   "cell_type": "code",
   "execution_count": 47,
   "metadata": {},
   "outputs": [],
   "source": [
    "test_df['fixed_pred'] = np.nan\n",
    "test_df['fixed_conf'] = np.nan\n",
    "test_df['variable_pred'] = np.nan\n",
    "test_df['variable_conf'] = np.nan\n",
    "\n",
    "for idx in test_df.index:\n",
    "    row = test_df.loc[idx]\n",
    "    fixed_pred, fixed_conf = predict(row['image'], model=fixed_model, how=\"fixed\", image_size=IMAGE_SIZE)\n",
    "    variable_pred, variable_conf = predict(row['image'], model=variable_model, how=\"variable\",  image_size=None)\n",
    "\n",
    "    row['fixed_pred'] = fixed_pred\n",
    "    row['fixed_conf'] = fixed_conf\n",
    "    row['variable_pred'] = variable_pred\n",
    "    row['variable_conf'] = variable_conf\n",
    "\n",
    "    test_df.loc[idx] = row"
   ]
  },
  {
   "cell_type": "code",
   "execution_count": 48,
   "metadata": {},
   "outputs": [
    {
     "name": "stdout",
     "output_type": "stream",
     "text": [
      "              precision    recall  f1-score   support\n",
      "\n",
      "   n01440764     0.9742    0.9767    0.9755       387\n",
      "   n02102040     0.9871    0.9722    0.9796       395\n",
      "   n02979186     0.9396    0.9580    0.9487       357\n",
      "   n03000684     0.9247    0.9223    0.9235       386\n",
      "   n03028079     0.9849    0.9584    0.9715       409\n",
      "   n03394916     0.9839    0.9289    0.9556       394\n",
      "   n03417042     0.9711    0.9512    0.9610       389\n",
      "   n03425413     0.8882    0.9666    0.9257       419\n",
      "   n03445777     0.9872    0.9649    0.9759       399\n",
      "   n03888257     0.9552    0.9846    0.9697       390\n",
      "\n",
      "    accuracy                         0.9585      3925\n",
      "   macro avg     0.9596    0.9584    0.9587      3925\n",
      "weighted avg     0.9595    0.9585    0.9587      3925\n",
      "\n"
     ]
    }
   ],
   "source": [
    "print(classification_report(test_df['class'], test_df['fixed_pred'], digits=4))"
   ]
  },
  {
   "cell_type": "code",
   "execution_count": 49,
   "metadata": {},
   "outputs": [
    {
     "name": "stdout",
     "output_type": "stream",
     "text": [
      "              precision    recall  f1-score   support\n",
      "\n",
      "   n01440764     0.9512    0.9561    0.9536       387\n",
      "   n02102040     0.9816    0.9443    0.9626       395\n",
      "   n02979186     0.9680    0.9328    0.9501       357\n",
      "   n03000684     0.8889    0.8705    0.8796       386\n",
      "   n03028079     0.9151    0.9756    0.9444       409\n",
      "   n03394916     0.9046    0.9391    0.9215       394\n",
      "   n03417042     0.9289    0.9075    0.9181       389\n",
      "   n03425413     0.9111    0.9045    0.9078       419\n",
      "   n03445777     0.9772    0.9649    0.9710       399\n",
      "   n03888257     0.9298    0.9513    0.9404       390\n",
      "\n",
      "    accuracy                         0.9348      3925\n",
      "   macro avg     0.9356    0.9346    0.9349      3925\n",
      "weighted avg     0.9352    0.9348    0.9348      3925\n",
      "\n"
     ]
    }
   ],
   "source": [
    "print(classification_report(test_df['class'], test_df['variable_pred'], digits=4))"
   ]
  },
  {
   "cell_type": "code",
   "execution_count": null,
   "metadata": {},
   "outputs": [],
   "source": []
  }
 ],
 "metadata": {
  "interpreter": {
   "hash": "cf398a4fc88ef0ce957c80d144ba01976e3d1e8f3bdb19ac842cbbdcb5b0665d"
  },
  "kernelspec": {
   "display_name": "Python 3.8.7 64-bit ('env': venv)",
   "name": "python3"
  },
  "language_info": {
   "codemirror_mode": {
    "name": "ipython",
    "version": 3
   },
   "file_extension": ".py",
   "mimetype": "text/x-python",
   "name": "python",
   "nbconvert_exporter": "python",
   "pygments_lexer": "ipython3",
   "version": "3.8.7"
  },
  "orig_nbformat": 4
 },
 "nbformat": 4,
 "nbformat_minor": 2
}
